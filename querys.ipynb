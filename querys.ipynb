{
 "cells": [
  {
   "cell_type": "code",
   "execution_count": null,
   "id": "6c050db8",
   "metadata": {},
   "outputs": [],
   "source": [
    "-- 1. Contar filas en la tabla alumno\n",
    "SELECT COUNT(*) FROM alumno;"
   ]
  },
  {
   "cell_type": "code",
   "execution_count": null,
   "id": "fbe058d5",
   "metadata": {},
   "outputs": [],
   "source": [
    "-- 2. Mostrar las primeras 5 filas de curso\n",
    "SELECT * FROM curso LIMIT 5;"
   ]
  },
  {
   "cell_type": "code",
   "execution_count": null,
   "id": "c8209b9c",
   "metadata": {},
   "outputs": [],
   "source": [
    "-- 3. Ver los alumnos que no están asignados a ningún proyecto\n",
    "SELECT a.*\n",
    "FROM alumno a\n",
    "LEFT JOIN alumno_proyecto ap ON a.id_alumno = ap.id_alumno\n",
    "WHERE ap.id_alumno IS NULL;"
   ]
  },
  {
   "cell_type": "code",
   "execution_count": null,
   "id": "de54f2f0",
   "metadata": {},
   "outputs": [],
   "source": [
    "-- 4. Listar proyectos y cuántos alumnos participan en cada uno\n",
    "SELECT p.id_proyecto, p.descripcion, COUNT(ap.id_alumno) AS num_alumnos\n",
    "FROM proyecto p\n",
    "LEFT JOIN alumno_proyecto ap ON p.id_proyecto = ap.id_proyecto\n",
    "GROUP BY p.id_proyecto, p.descripcion;"
   ]
  },
  {
   "cell_type": "code",
   "execution_count": null,
   "id": "732d6107",
   "metadata": {},
   "outputs": [],
   "source": [
    "-- 5. Mostrar los cursos que tiene cada profesor (tabla profesor_curso)\n",
    "SELECT pc.id_staff, pc.id_curso\n",
    "FROM profesor_curso pc\n",
    "LIMIT 10;"
   ]
  },
  {
   "cell_type": "code",
   "execution_count": null,
   "id": "26dc0dba",
   "metadata": {},
   "outputs": [],
   "source": [
    "-- 6. Listar todos los campus disponibles\n",
    "SELECT * FROM campus;"
   ]
  },
  {
   "cell_type": "code",
   "execution_count": null,
   "id": "bf2bf74c",
   "metadata": {},
   "outputs": [],
   "source": [
    "-- 7. Contar cuántos proyectos hay por vertical\n",
    "SELECT v.id_vertical, v.descripcion, COUNT(p.id_proyecto) AS proyectos_totales\n",
    "FROM vertical v\n",
    "LEFT JOIN proyecto p ON v.id_vertical = p.id_vertical\n",
    "GROUP BY v.id_vertical, v.descripcion;"
   ]
  },
  {
   "cell_type": "code",
   "execution_count": null,
   "id": "7def4331",
   "metadata": {},
   "outputs": [],
   "source": []
  }
 ],
 "metadata": {
  "language_info": {
   "name": "python"
  }
 },
 "nbformat": 4,
 "nbformat_minor": 5
}
